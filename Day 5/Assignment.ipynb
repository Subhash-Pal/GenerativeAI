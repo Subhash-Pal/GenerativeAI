{
  "nbformat": 4,
  "nbformat_minor": 0,
  "metadata": {
    "colab": {
      "provenance": []
    },
    "kernelspec": {
      "name": "python3",
      "display_name": "Python 3"
    },
    "language_info": {
      "name": "python"
    }
  },
  "cells": [
    {
      "cell_type": "code",
      "execution_count": null,
      "metadata": {
        "colab": {
          "base_uri": "https://localhost:8080/"
        },
        "id": "SgbEL5ypEDTi",
        "outputId": "5aee8457-5e4f-40fd-d22c-48302c0aacca"
      },
      "outputs": [
        {
          "output_type": "stream",
          "name": "stdout",
          "text": [
            "Epoch 1/10\n",
            "32/32 [==============================] - 1s 3ms/step - loss: 3.5104\n",
            "Epoch 2/10\n",
            "32/32 [==============================] - 0s 4ms/step - loss: 3.0786\n",
            "Epoch 3/10\n",
            "32/32 [==============================] - 0s 4ms/step - loss: 2.7676\n",
            "Epoch 4/10\n",
            "32/32 [==============================] - 0s 3ms/step - loss: 2.4964\n",
            "Epoch 5/10\n",
            "32/32 [==============================] - 0s 3ms/step - loss: 2.2617\n",
            "Epoch 6/10\n",
            "32/32 [==============================] - 0s 4ms/step - loss: 2.0647\n",
            "Epoch 7/10\n",
            "32/32 [==============================] - 0s 4ms/step - loss: 1.8964\n",
            "Epoch 8/10\n",
            "32/32 [==============================] - 0s 4ms/step - loss: 1.7546\n",
            "Epoch 9/10\n",
            "32/32 [==============================] - 0s 3ms/step - loss: 1.6314\n",
            "Epoch 10/10\n",
            "32/32 [==============================] - 0s 2ms/step - loss: 1.5311\n",
            "Feature weights: [[-4.0116459e-02 -7.6859724e-04  4.8885006e-05 ... -3.9872970e-04\n",
            "   9.0337169e-05  8.1757264e-04]\n",
            " [-1.7185612e-01 -5.3538656e-04  2.5270009e-04 ...  6.1195096e-05\n",
            "  -2.0028529e-05 -9.9494471e-04]\n",
            " [-2.5383048e-04  2.3777099e-04  3.5674516e-02 ... -2.7096641e-04\n",
            "  -2.0041468e-04  2.0228781e-02]\n",
            " ...\n",
            " [ 6.4636320e-02 -5.2826141e-04 -3.9253730e-02 ... -1.6709455e-05\n",
            "   4.1724966e-04  1.9254669e-04]\n",
            " [ 2.4102820e-02 -9.2680770e-04 -5.6356229e-02 ... -8.0661805e-05\n",
            "  -2.2202163e-04 -2.7297245e-04]\n",
            " [-5.3165914e-03 -7.6211907e-04  6.4411342e-02 ... -3.7059138e-04\n",
            "  -3.1475641e-04  5.4260372e-04]]\n"
          ]
        }
      ],
      "source": [
        "# This Program is implementing Regularization L1 or L2 fill the name of regularization(any) in the blank-space\n",
        "import tensorflow as tf\n",
        "\n",
        "# Sample data\n",
        "num_samples, num_features = 1000, 20\n",
        "X = tf.random.normal([num_samples, num_features])\n",
        "y = tf.random.normal([num_samples, 1])\n",
        "\n",
        "# Create a simple model with L1 regularization\n",
        "model = tf.keras.models.Sequential([\n",
        "    tf.keras.layers.Dense(128, activation='relu', ........................, input_dim=num_features),\n",
        "    tf.keras.layers.Dense(1)\n",
        "])\n",
        "\n",
        "model.compile(optimizer='adam', loss='mse')\n",
        "model.fit(X, y, epochs=10)\n",
        "\n",
        "# Features with weights close to zero might be less important\n",
        "print(\"Feature weights:\", model.layers[0].get_weights()[0])\n"
      ]
    },
    {
      "cell_type": "code",
      "source": [
        "#The below code is Linear regression using tessorflow where one important line is missing fill the line in order to execute the code\n",
        "\n",
        "import tensorflow as tf\n",
        "\n",
        "# Sample data\n",
        "X = tf.random.normal([100, 1])\n",
        "y = 2 * X + 3 + tf.random.normal([100, 1])\n",
        "\n",
        "# Linear regression model\n",
        "model = tf.keras.models.Sequential([\n",
        "    tf.keras.layers.Dense(1, input_dim=1)\n",
        "])\n",
        "\n",
        "\n",
        "model.fit(X, y, epochs=10)\n",
        "\n",
        "print(\"Learned weights:\", model.layers[0].get_weights())\n"
      ],
      "metadata": {
        "id": "ElLokFsPKeuq",
        "outputId": "ab5c9728-fcd7-41ae-875b-876f72a55f68",
        "colab": {
          "base_uri": "https://localhost:8080/"
        }
      },
      "execution_count": null,
      "outputs": [
        {
          "output_type": "stream",
          "name": "stdout",
          "text": [
            "Epoch 1/10\n",
            "4/4 [==============================] - 0s 3ms/step - loss: 19.7915\n",
            "Epoch 2/10\n",
            "4/4 [==============================] - 0s 3ms/step - loss: 17.0417\n",
            "Epoch 3/10\n",
            "4/4 [==============================] - 0s 4ms/step - loss: 14.3291\n",
            "Epoch 4/10\n",
            "4/4 [==============================] - 0s 4ms/step - loss: 11.7205\n",
            "Epoch 5/10\n",
            "4/4 [==============================] - 0s 4ms/step - loss: 10.3158\n",
            "Epoch 6/10\n",
            "4/4 [==============================] - 0s 5ms/step - loss: 9.0194\n",
            "Epoch 7/10\n",
            "4/4 [==============================] - 0s 3ms/step - loss: 7.7259\n",
            "Epoch 8/10\n",
            "4/4 [==============================] - 0s 3ms/step - loss: 6.7402\n",
            "Epoch 9/10\n",
            "4/4 [==============================] - 0s 3ms/step - loss: 5.8530\n",
            "Epoch 10/10\n",
            "4/4 [==============================] - 0s 4ms/step - loss: 4.9122\n",
            "Learned weights: [array([[0.81134933]], dtype=float32), array([1.691019], dtype=float32)]\n"
          ]
        }
      ]
    }
  ]
}